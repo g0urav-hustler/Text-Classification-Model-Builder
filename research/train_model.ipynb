{
 "cells": [
  {
   "cell_type": "code",
   "execution_count": 1,
   "metadata": {},
   "outputs": [],
   "source": [
    "import os"
   ]
  },
  {
   "cell_type": "code",
   "execution_count": 2,
   "metadata": {},
   "outputs": [
    {
     "name": "stdout",
     "output_type": "stream",
     "text": [
      "/home/gourav/ML/Text_Classification_Model_Builder/research\n"
     ]
    }
   ],
   "source": [
    "!pwd"
   ]
  },
  {
   "cell_type": "code",
   "execution_count": 3,
   "metadata": {},
   "outputs": [],
   "source": [
    "os.chdir(\"../\")"
   ]
  },
  {
   "cell_type": "code",
   "execution_count": 4,
   "metadata": {},
   "outputs": [
    {
     "name": "stdout",
     "output_type": "stream",
     "text": [
      "/home/gourav/ML/Text_Classification_Model_Builder\n"
     ]
    }
   ],
   "source": [
    "!pwd"
   ]
  },
  {
   "cell_type": "code",
   "execution_count": 5,
   "metadata": {},
   "outputs": [],
   "source": [
    "from dataclasses import dataclass\n",
    "from pathlib import Path\n",
    "\n",
    "@dataclass(frozen= True)\n",
    "class TrainModelConfig:\n",
    "    train_data_path: Path \n",
    "    val_data_path: Path\n",
    "    save_model_dir: Path\n",
    "    \n",
    "    model_name : str\n",
    "    epochs : int\n",
    "    train_batch_size : int\n",
    "    val_batch_size : int\n"
   ]
  },
  {
   "cell_type": "code",
   "execution_count": 6,
   "metadata": {},
   "outputs": [],
   "source": [
    "from src.constants import *\n",
    "from src.utils.common import read_yaml, create_directories"
   ]
  },
  {
   "cell_type": "code",
   "execution_count": 9,
   "metadata": {},
   "outputs": [],
   "source": [
    "class ConfigurationManager:\n",
    "\n",
    "    def __init__(\n",
    "        self,\n",
    "        config_filepath = CONFIG_FILE_PATH,\n",
    "        params_filepath = PARAMS_FILE_PATH):\n",
    "\n",
    "        self.config = read_yaml(config_filepath)\n",
    "        self.params = read_yaml(params_filepath)\n",
    "\n",
    "        create_directories([self.config.artifacts_root])\n",
    "\n",
    "    def get_train_model_config(self) -> TrainModelConfig:\n",
    "\n",
    "        \n",
    "        config = self.config.train_model\n",
    "        params = self.params.model_params\n",
    "        \n",
    "        create_directories([config.saved_model_dir])\n",
    "\n",
    "        train_model_config = TrainModelConfig(\n",
    "            train_data_path= config.train_data_path,\n",
    "            val_data_path= config.val_data_path,\n",
    "            save_model_dir= config.saved_model_dir,\n",
    "\n",
    "            model_name = params.model_name,\n",
    "            epochs = params.epochs,\n",
    "            train_batch_size = params.train_batch_size,\n",
    "            val_batch_size = params.val_batch_size\n",
    "        )\n",
    "\n",
    "        return train_model_config"
   ]
  },
  {
   "cell_type": "code",
   "execution_count": 12,
   "metadata": {},
   "outputs": [
    {
     "name": "stdout",
     "output_type": "stream",
     "text": [
      "[2024-05-25 17:24:14,513: INFO: common: yaml file: config/config.yaml loaded successfully]\n",
      "[2024-05-25 17:24:14,518: INFO: common: yaml file: params.yaml loaded successfully]\n",
      "[2024-05-25 17:24:14,520: INFO: common: already created directory: artifacts]\n",
      "{'train_data_path': 'artifacts/split_data/', 'val_data_path': 'artifacts/split_data/', 'saved_model_dir': 'artifacts/models'}\n",
      "[2024-05-25 17:24:14,522: INFO: common: already created directory: artifacts/models]\n",
      "TrainModelConfig(train_data_path='artifacts/split_data/', val_data_path='artifacts/split_data/', save_model_dir='artifacts/models', model_name='bert-base-uncased', epochs=5, train_batch_size=4, val_batch_size=4)\n"
     ]
    }
   ],
   "source": [
    "conf = ConfigurationManager()\n",
    "train_model_config = conf.get_train_model_config()\n",
    "print(train_model_config)\n"
   ]
  },
  {
   "cell_type": "code",
   "execution_count": 11,
   "metadata": {},
   "outputs": [
    {
     "name": "stderr",
     "output_type": "stream",
     "text": [
      "/home/gourav/ML/Text_Classification_Model_Builder/tc_env/lib/python3.8/site-packages/tqdm/auto.py:21: TqdmWarning: IProgress not found. Please update jupyter and ipywidgets. See https://ipywidgets.readthedocs.io/en/stable/user_install.html\n",
      "  from .autonotebook import tqdm as notebook_tqdm\n",
      "None of PyTorch, TensorFlow >= 2.0, or Flax have been found. Models won't be available and only tokenizers, configuration and file/data utilities can be used.\n"
     ]
    }
   ],
   "source": [
    "from src.utils.common import load_json, join_path\n",
    "import numpy as np\n",
    "from sklearn.metrics import accuracy_score, precision_recall_fscore_support\n",
    "from datasets import Dataset\n",
    "from transformers import AutoModelForSequenceClassification, TrainingArguments, Trainer"
   ]
  },
  {
   "cell_type": "code",
   "execution_count": 1,
   "metadata": {},
   "outputs": [
    {
     "ename": "NameError",
     "evalue": "name 'TrainModelConfig' is not defined",
     "output_type": "error",
     "traceback": [
      "\u001b[0;31m---------------------------------------------------------------------------\u001b[0m",
      "\u001b[0;31mNameError\u001b[0m                                 Traceback (most recent call last)",
      "Cell \u001b[0;32mIn[1], line 1\u001b[0m\n\u001b[0;32m----> 1\u001b[0m \u001b[38;5;28;01mclass\u001b[39;00m \u001b[38;5;21;01mTrainModel\u001b[39;00m:\n\u001b[1;32m      2\u001b[0m     \u001b[38;5;28;01mdef\u001b[39;00m \u001b[38;5;21m__init__\u001b[39m(\u001b[38;5;28mself\u001b[39m, config \u001b[38;5;241m=\u001b[39m TrainModelConfig):\n\u001b[1;32m      3\u001b[0m         \u001b[38;5;28mself\u001b[39m\u001b[38;5;241m.\u001b[39mconfig \u001b[38;5;241m=\u001b[39m config\n",
      "Cell \u001b[0;32mIn[1], line 2\u001b[0m, in \u001b[0;36mTrainModel\u001b[0;34m()\u001b[0m\n\u001b[1;32m      1\u001b[0m \u001b[38;5;28;01mclass\u001b[39;00m \u001b[38;5;21;01mTrainModel\u001b[39;00m:\n\u001b[0;32m----> 2\u001b[0m     \u001b[38;5;28;01mdef\u001b[39;00m \u001b[38;5;21m__init__\u001b[39m(\u001b[38;5;28mself\u001b[39m, config \u001b[38;5;241m=\u001b[39m \u001b[43mTrainModelConfig\u001b[49m):\n\u001b[1;32m      3\u001b[0m         \u001b[38;5;28mself\u001b[39m\u001b[38;5;241m.\u001b[39mconfig \u001b[38;5;241m=\u001b[39m config\n\u001b[1;32m      5\u001b[0m     \u001b[38;5;28;01mdef\u001b[39;00m \u001b[38;5;21mtrain_model\u001b[39m(\u001b[38;5;28mself\u001b[39m):\n",
      "\u001b[0;31mNameError\u001b[0m: name 'TrainModelConfig' is not defined"
     ]
    }
   ],
   "source": [
    "class TrainModel:\n",
    "    def __init__(self, config = TrainModelConfig):\n",
    "        self.config = config\n",
    "\n",
    "    def dataset_format(self, data):\n",
    "\n",
    "        result_data = Dataset.from_dict(data)\n",
    "\n",
    "        return result_data\n",
    "    \n",
    "    from sklearn.metrics import accuracy_score, precision_recall_fscore_support\n",
    "\n",
    "    def compute_metrics(self,pred):\n",
    "        \n",
    "        labels = pred.label_ids\n",
    "\n",
    "        preds = pred.predictions.argmax(-1)\n",
    "\n",
    "        precision, recall, f1, _ = precision_recall_fscore_support(labels, preds, average='macro')\n",
    "\n",
    "        acc = accuracy_score(labels, preds)\n",
    "\n",
    "        # Return the computed metrics as a dictionary\n",
    "        return {\n",
    "            'Accuracy': acc,\n",
    "            'F1': f1,\n",
    "            'Precision': precision,\n",
    "            'Recall': recall\n",
    "        }\n",
    "\n",
    "\n",
    "    def train_model(self):\n",
    "        config = self.config\n",
    "\n",
    "        train_data = load_json(Path(join_path(config.train_data_path, \"train_data.json\")))\n",
    "        train_data = self.dataset_format(train_data)\n",
    "\n",
    "        val_data = load_json(Path(join_path(config.val_data_path, \"val_data.json\")))\n",
    "        val_data = self.dataset_format(val_data)\n",
    "\n",
    "        training_args = TrainingArguments(\n",
    "            output_dir = join_path(self.config.save_model_dir, self.config.model_name),\n",
    "            num_train_epochs = self.config.epochs,\n",
    "            per_device_train_batch_size= self.config.train_batch_size,\n",
    "            per_device_eval_batch_size=self.config.val_batch_size,\n",
    "            learning_rate = 2e-5,\n",
    "            disable_tqdm = False\n",
    "        )\n",
    "\n",
    "\n",
    "        model = AutoModelForSequenceClassification.from_pretrained(self.config.model_name, num_labels = 5)\n",
    "        \n",
    "        trainer = Trainer(\n",
    "            model = model,\n",
    "            args = training_args,\n",
    "            train_dataset = train_data,\n",
    "            eval_dataset = val_data,\n",
    "            compute_metrics = self.compute_metrics\n",
    "        )\n",
    "\n",
    "        # model training\n",
    "        trainer.train()\n",
    "        \n",
    "\n",
    "\n",
    "        \n",
    "\n",
    "    def get_eval_metrics(self):\n",
    "\n",
    "        pretrained_model_path = join_path(self.config.save_model_dir, self.config.model_type)\n",
    "\n",
    "        pretrained_model = QuestionAnsweringModel(\n",
    "            model_type = self.config.model_type,\n",
    "            model_name = pretrained_model_path,\n",
    "        )\n",
    "\n",
    "        evaluation_metric = pretrained_model.eval_model(eval_data = self.config.val_data_path)\n",
    "\n",
    "        return evaluation_metric\n",
    "        \n",
    "\n",
    "\n",
    "\n",
    "\n"
   ]
  },
  {
   "cell_type": "code",
   "execution_count": 14,
   "metadata": {},
   "outputs": [
    {
     "name": "stdout",
     "output_type": "stream",
     "text": [
      "[2024-05-16 13:58:13,896: INFO: common: yaml file: config/config.yaml loaded successfully]\n",
      "[2024-05-16 13:58:13,904: INFO: common: yaml file: params.yaml loaded successfully]\n",
      "[2024-05-16 13:58:13,907: INFO: common: already created directory: artifacts]\n"
     ]
    },
    {
     "name": "stderr",
     "output_type": "stream",
     "text": [
      "/home/gourav/ML/QA_Models_Builder/qa_env/lib/python3.8/site-packages/huggingface_hub/file_download.py:1132: FutureWarning: `resume_download` is deprecated and will be removed in version 1.0.0. Downloads always resume when possible. If you want to force a new download, use `force_download=True`.\n",
      "  warnings.warn(\n",
      "Error while downloading from https://cdn-lfs.huggingface.co/bert-base-cased/1d8bdcee6021e2c25f0325e84889b61c2eb26b843eef5659c247af138d64f050?response-content-disposition=attachment%3B+filename*%3DUTF-8%27%27model.safetensors%3B+filename%3D%22model.safetensors%22%3B&Expires=1716107295&Policy=eyJTdGF0ZW1lbnQiOlt7IkNvbmRpdGlvbiI6eyJEYXRlTGVzc1RoYW4iOnsiQVdTOkVwb2NoVGltZSI6MTcxNjEwNzI5NX19LCJSZXNvdXJjZSI6Imh0dHBzOi8vY2RuLWxmcy5odWdnaW5nZmFjZS5jby9iZXJ0LWJhc2UtY2FzZWQvMWQ4YmRjZWU2MDIxZTJjMjVmMDMyNWU4NDg4OWI2MWMyZWIyNmI4NDNlZWY1NjU5YzI0N2FmMTM4ZDY0ZjA1MD9yZXNwb25zZS1jb250ZW50LWRpc3Bvc2l0aW9uPSoifV19&Signature=Zmv76YpyqqWQCdYvEIEBLyZUcGW8vuibpD%7EyEBuUczAvrCRvH4PJzC59-TqalS2wTOZAZKf%7EgSGrNd2TLaJT1AK332Qvzcpypd1pxcxjoWhUZs6JCxRCqxVv6emd19K0Ee%7ExOVfT0vrMYeK13EojMSTEaKPq6Knd2IwxQqzaKSONeNcYgEdAfrD5TsPzjhKaaUUMDFHaflyrXkXGEhuYaB5tNyG9WZkorOib%7Em7n%7EN%7EOSqerLhhTam48BgWI4pD7y-iqotBS-iBxPFz6t-sFF7fqp4sHRcDr1QNevNtuYwLYNRYgcyuSV-WZzzch2838qHAfAByglunGDinkaTbbjQ__&Key-Pair-Id=KVTP0A1DKRTAX: HTTPSConnectionPool(host='cdn-lfs.huggingface.co', port=443): Read timed out.\n",
      "Trying to resume download...\n"
     ]
    },
    {
     "name": "stdout",
     "output_type": "stream",
     "text": [
      "[2024-05-16 13:58:34,620: WARNING: file_download: Error while downloading from https://cdn-lfs.huggingface.co/bert-base-cased/1d8bdcee6021e2c25f0325e84889b61c2eb26b843eef5659c247af138d64f050?response-content-disposition=attachment%3B+filename*%3DUTF-8%27%27model.safetensors%3B+filename%3D%22model.safetensors%22%3B&Expires=1716107295&Policy=eyJTdGF0ZW1lbnQiOlt7IkNvbmRpdGlvbiI6eyJEYXRlTGVzc1RoYW4iOnsiQVdTOkVwb2NoVGltZSI6MTcxNjEwNzI5NX19LCJSZXNvdXJjZSI6Imh0dHBzOi8vY2RuLWxmcy5odWdnaW5nZmFjZS5jby9iZXJ0LWJhc2UtY2FzZWQvMWQ4YmRjZWU2MDIxZTJjMjVmMDMyNWU4NDg4OWI2MWMyZWIyNmI4NDNlZWY1NjU5YzI0N2FmMTM4ZDY0ZjA1MD9yZXNwb25zZS1jb250ZW50LWRpc3Bvc2l0aW9uPSoifV19&Signature=Zmv76YpyqqWQCdYvEIEBLyZUcGW8vuibpD%7EyEBuUczAvrCRvH4PJzC59-TqalS2wTOZAZKf%7EgSGrNd2TLaJT1AK332Qvzcpypd1pxcxjoWhUZs6JCxRCqxVv6emd19K0Ee%7ExOVfT0vrMYeK13EojMSTEaKPq6Knd2IwxQqzaKSONeNcYgEdAfrD5TsPzjhKaaUUMDFHaflyrXkXGEhuYaB5tNyG9WZkorOib%7Em7n%7EN%7EOSqerLhhTam48BgWI4pD7y-iqotBS-iBxPFz6t-sFF7fqp4sHRcDr1QNevNtuYwLYNRYgcyuSV-WZzzch2838qHAfAByglunGDinkaTbbjQ__&Key-Pair-Id=KVTP0A1DKRTAX: HTTPSConnectionPool(host='cdn-lfs.huggingface.co', port=443): Read timed out.\n",
      "Trying to resume download...]\n",
      "(MaxRetryError('HTTPSConnectionPool(host=\\'cdn-lfs.huggingface.co\\', port=443): Max retries exceeded with url: /bert-base-cased/1d8bdcee6021e2c25f0325e84889b61c2eb26b843eef5659c247af138d64f050?response-content-disposition=attachment%3B+filename*%3DUTF-8%27%27model.safetensors%3B+filename%3D%22model.safetensors%22%3B&Expires=1716107295&Policy=eyJTdGF0ZW1lbnQiOlt7IkNvbmRpdGlvbiI6eyJEYXRlTGVzc1RoYW4iOnsiQVdTOkVwb2NoVGltZSI6MTcxNjEwNzI5NX19LCJSZXNvdXJjZSI6Imh0dHBzOi8vY2RuLWxmcy5odWdnaW5nZmFjZS5jby9iZXJ0LWJhc2UtY2FzZWQvMWQ4YmRjZWU2MDIxZTJjMjVmMDMyNWU4NDg4OWI2MWMyZWIyNmI4NDNlZWY1NjU5YzI0N2FmMTM4ZDY0ZjA1MD9yZXNwb25zZS1jb250ZW50LWRpc3Bvc2l0aW9uPSoifV19&Signature=Zmv76YpyqqWQCdYvEIEBLyZUcGW8vuibpD~yEBuUczAvrCRvH4PJzC59-TqalS2wTOZAZKf~gSGrNd2TLaJT1AK332Qvzcpypd1pxcxjoWhUZs6JCxRCqxVv6emd19K0Ee~xOVfT0vrMYeK13EojMSTEaKPq6Knd2IwxQqzaKSONeNcYgEdAfrD5TsPzjhKaaUUMDFHaflyrXkXGEhuYaB5tNyG9WZkorOib~m7n~N~OSqerLhhTam48BgWI4pD7y-iqotBS-iBxPFz6t-sFF7fqp4sHRcDr1QNevNtuYwLYNRYgcyuSV-WZzzch2838qHAfAByglunGDinkaTbbjQ__&Key-Pair-Id=KVTP0A1DKRTAX (Caused by NameResolutionError(\"<urllib3.connection.HTTPSConnection object at 0x7efb494ce250>: Failed to resolve \\'cdn-lfs.huggingface.co\\' ([Errno -3] Temporary failure in name resolution)\"))'), '(Request ID: 2db2a788-69bb-4940-80c8-29de288018b4)')\n"
     ]
    }
   ],
   "source": [
    "try:\n",
    "    config = ConfigurationManager()\n",
    "    train_model_config = config.get_train_model_config()\n",
    "    # print(train_model_config)\n",
    "\n",
    "    train_model = TrainModel(train_model_config)\n",
    "    train_model.train_model()\n",
    "except Exception as e:\n",
    "    print(e)\n",
    "    "
   ]
  },
  {
   "cell_type": "code",
   "execution_count": null,
   "metadata": {},
   "outputs": [],
   "source": []
  }
 ],
 "metadata": {
  "kernelspec": {
   "display_name": "qa_env",
   "language": "python",
   "name": "python3"
  },
  "language_info": {
   "codemirror_mode": {
    "name": "ipython",
    "version": 3
   },
   "file_extension": ".py",
   "mimetype": "text/x-python",
   "name": "python",
   "nbconvert_exporter": "python",
   "pygments_lexer": "ipython3",
   "version": "3.8.10"
  }
 },
 "nbformat": 4,
 "nbformat_minor": 2
}
