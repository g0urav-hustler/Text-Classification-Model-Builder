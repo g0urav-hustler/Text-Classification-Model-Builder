{
 "cells": [
  {
   "cell_type": "code",
   "execution_count": 2,
   "metadata": {},
   "outputs": [],
   "source": [
    "import os"
   ]
  },
  {
   "cell_type": "code",
   "execution_count": 3,
   "metadata": {},
   "outputs": [
    {
     "name": "stdout",
     "output_type": "stream",
     "text": [
      "/home/gourav/ML/Text_Classification_Model_Builder/research\n"
     ]
    }
   ],
   "source": [
    "!pwd"
   ]
  },
  {
   "cell_type": "code",
   "execution_count": 4,
   "metadata": {},
   "outputs": [],
   "source": [
    "os.chdir(\"../\")"
   ]
  },
  {
   "cell_type": "code",
   "execution_count": 9,
   "metadata": {},
   "outputs": [],
   "source": [
    "from dataclasses import dataclass\n",
    "from pathlib import Path\n",
    "\n",
    "@dataclass(frozen= True)\n",
    "class DataProcessingConfig:\n",
    "    model_name : str\n",
    "    raw_data_dir: Path\n",
    "    processed_data_dir: Path\n",
    "    split_data_dir: Path\n",
    "\n",
    "    text_col: str\n",
    "    label_col: str\n",
    "\n",
    "    train_data_size: float\n",
    "    test_data_size: float\n",
    "    val_data_size: float"
   ]
  },
  {
   "cell_type": "code",
   "execution_count": 10,
   "metadata": {},
   "outputs": [],
   "source": [
    "from src.constants import *\n",
    "from src.utils.common import read_yaml, create_directories\n"
   ]
  },
  {
   "cell_type": "code",
   "execution_count": 11,
   "metadata": {},
   "outputs": [],
   "source": [
    "class ConfigurationManager:\n",
    "\n",
    "    def __init__(\n",
    "        self,\n",
    "        config_filepath = CONFIG_FILE_PATH,\n",
    "        params_filepath = PARAMS_FILE_PATH):\n",
    "\n",
    "        self.config = read_yaml(config_filepath)\n",
    "        self.params = read_yaml(params_filepath)\n",
    "\n",
    "        create_directories([self.config.artifacts_root])\n",
    "\n",
    "    def get_data_processing_config(self) -> DataProcessingConfig:\n",
    "\n",
    "        config = self.config.data_processing\n",
    "        params = self.params.data_processing\n",
    "\n",
    "\n",
    "        data_processing_config = DataProcessingConfig(\n",
    "\n",
    "            model_name = params.train_model.model_name,\n",
    "            raw_data_dir= config.raw_data_dir,\n",
    "            processed_data_dir= config.processed_data_dir,\n",
    "            split_data_dir= config.split_data_dir,\n",
    "\n",
    "            text_col= params.text_col,\n",
    "            label_col= params.label_col,\n",
    "\n",
    "            train_data_size= params.train_data_size,\n",
    "            test_data_size= params.test_data_size,\n",
    "            val_data_size= params.val_data_size,\n",
    "\n",
    "        )\n",
    "\n",
    "        return data_processing_config\n",
    "       "
   ]
  },
  {
   "cell_type": "code",
   "execution_count": 13,
   "metadata": {},
   "outputs": [
    {
     "name": "stderr",
     "output_type": "stream",
     "text": [
      "/home/gourav/ML/Text_Classification_Model_Builder/tc_env/lib/python3.8/site-packages/tqdm/auto.py:21: TqdmWarning: IProgress not found. Please update jupyter and ipywidgets. See https://ipywidgets.readthedocs.io/en/stable/user_install.html\n",
      "  from .autonotebook import tqdm as notebook_tqdm\n",
      "None of PyTorch, TensorFlow >= 2.0, or Flax have been found. Models won't be available and only tokenizers, configuration and file/data utilities can be used.\n"
     ]
    }
   ],
   "source": [
    "import os\n",
    "import pandas as pd\n",
    "from src.utils.common import join_path\n",
    "from transformers import AutoTokenizer"
   ]
  },
  {
   "cell_type": "code",
   "execution_count": null,
   "metadata": {},
   "outputs": [],
   "source": [
    "class DataProcessing:\n",
    "    def __init__(self,config = DataProcessingConfig) -> None:\n",
    "        self.config = config\n",
    "\n",
    "\n",
    "    def get_encoded_labels(self, data):\n",
    "        \n",
    "        result_data = data.astype('category').cat.codes\n",
    "        return result_data\n",
    "\n",
    "\n",
    "    def get_encoded_text(self, data_list):\n",
    "\n",
    "        \n",
    "        tokenizer = AutoTokenizer.from_pretrained(self.config.model_name)\n",
    "        encoded_data = tokenizer(data_list, padding = True, truncation= True )\n",
    "        \n",
    "        return encoded_data\n",
    "\n",
    "\n",
    "    def get_processed_data(self):\n",
    "        file_name = os.listdir(self.config.raw_data_dir)[0]\n",
    "        file_path = join_path(self.config.raw_data_dir,file_name)\n",
    "\n",
    "        df = pd.read_csv(file_path, header= False)\n",
    "\n",
    "        # encoding text\n",
    "\n",
    "        text_list = df[self.config.text_col].to_list()\n",
    "        encoded_text = self.get_encoded_text(text_list)\n",
    "\n",
    "        # encoding the labels\n",
    "        encoded_labels = self.get_encoded_labels(df[self.config.label_col])\n",
    "        labels = encoded_labels.to_list()\n",
    "\n",
    "        \n",
    "\n",
    "\n",
    "\n"
   ]
  }
 ],
 "metadata": {
  "kernelspec": {
   "display_name": "tc_env",
   "language": "python",
   "name": "python3"
  },
  "language_info": {
   "codemirror_mode": {
    "name": "ipython",
    "version": 3
   },
   "file_extension": ".py",
   "mimetype": "text/x-python",
   "name": "python",
   "nbconvert_exporter": "python",
   "pygments_lexer": "ipython3",
   "version": "3.8.10"
  }
 },
 "nbformat": 4,
 "nbformat_minor": 2
}
