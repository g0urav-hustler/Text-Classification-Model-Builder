{
 "cells": [
  {
   "cell_type": "code",
   "execution_count": 1,
   "metadata": {},
   "outputs": [],
   "source": [
    "import os"
   ]
  },
  {
   "cell_type": "code",
   "execution_count": 2,
   "metadata": {},
   "outputs": [
    {
     "name": "stdout",
     "output_type": "stream",
     "text": [
      "/home/gourav/ML/Text_Classification_Model_Builder/research\n"
     ]
    }
   ],
   "source": [
    "!pwd"
   ]
  },
  {
   "cell_type": "code",
   "execution_count": 3,
   "metadata": {},
   "outputs": [],
   "source": [
    "os.chdir(\"../\")"
   ]
  },
  {
   "cell_type": "code",
   "execution_count": 4,
   "metadata": {},
   "outputs": [],
   "source": [
    "from dataclasses import dataclass\n",
    "from pathlib import Path\n",
    "\n",
    "@dataclass(frozen= True)\n",
    "class DataProcessingConfig:\n",
    "    model_name : str\n",
    "    raw_data_dir: Path\n",
    "    processed_data_dir: Path\n",
    "    split_data_dir: Path\n",
    "\n",
    "    text_col: str\n",
    "    label_col: str\n",
    "\n",
    "    train_data_size: float\n",
    "    test_data_size: float\n",
    "    val_data_size: float"
   ]
  },
  {
   "cell_type": "code",
   "execution_count": 5,
   "metadata": {},
   "outputs": [],
   "source": [
    "from src.constants import *\n",
    "from src.utils.common import read_yaml, create_directories\n"
   ]
  },
  {
   "cell_type": "code",
   "execution_count": 6,
   "metadata": {},
   "outputs": [],
   "source": [
    "class ConfigurationManager:\n",
    "\n",
    "    def __init__(\n",
    "        self,\n",
    "        config_filepath = CONFIG_FILE_PATH,\n",
    "        params_filepath = PARAMS_FILE_PATH):\n",
    "\n",
    "        self.config = read_yaml(config_filepath)\n",
    "        self.params = read_yaml(params_filepath)\n",
    "\n",
    "        create_directories([self.config.artifacts_root])\n",
    "\n",
    "    def get_data_processing_config(self) -> DataProcessingConfig:\n",
    "\n",
    "        config = self.config.data_processing\n",
    "        params = self.params.data_processing\n",
    "        model_name = self.params.train_model.model_name\n",
    "\n",
    "        create_directories([config.processed_data_dir, config.split_data_dir])\n",
    "\n",
    "        data_processing_config = DataProcessingConfig(\n",
    "\n",
    "            model_name = model_name,\n",
    "            raw_data_dir= config.raw_data_dir,\n",
    "            processed_data_dir= config.processed_data_dir,\n",
    "            split_data_dir= config.split_data_dir,\n",
    "\n",
    "            text_col= params.text_col,\n",
    "            label_col= params.label_col,\n",
    "\n",
    "            train_data_size= params.train_data_size,\n",
    "            test_data_size= params.test_data_size,\n",
    "            val_data_size= params.val_data_size,\n",
    "\n",
    "        )\n",
    "\n",
    "        return data_processing_config\n",
    "       "
   ]
  },
  {
   "cell_type": "code",
   "execution_count": 7,
   "metadata": {},
   "outputs": [
    {
     "name": "stdout",
     "output_type": "stream",
     "text": [
      "[2024-05-25 15:33:09,550: INFO: common: yaml file: config/config.yaml loaded successfully]\n",
      "[2024-05-25 15:33:09,570: INFO: common: yaml file: params.yaml loaded successfully]\n",
      "[2024-05-25 15:33:09,576: INFO: common: already created directory: artifacts]\n",
      "[2024-05-25 15:33:09,579: INFO: common: already created directory: artifacts/processed_data]\n",
      "[2024-05-25 15:33:09,583: INFO: common: already created directory: artifacts/split_data]\n"
     ]
    }
   ],
   "source": [
    "config =ConfigurationManager()\n",
    "data_processing_config = config.get_data_processing_config()"
   ]
  },
  {
   "cell_type": "code",
   "execution_count": 11,
   "metadata": {},
   "outputs": [],
   "source": [
    "import os\n",
    "import pandas as pd\n",
    "from src.utils.common import join_path, save_json, load_json\n",
    "from transformers import AutoTokenizer"
   ]
  },
  {
   "cell_type": "code",
   "execution_count": 20,
   "metadata": {},
   "outputs": [],
   "source": [
    "class DataProcessing:\n",
    "    def __init__(self,config = DataProcessingConfig) -> None:\n",
    "        self.config = config\n",
    "\n",
    "\n",
    "    def get_encoded_labels(self, data):\n",
    "        \n",
    "        result_data = data.astype('category').cat.codes\n",
    "        return result_data\n",
    "\n",
    "\n",
    "    def get_encoded_text(self, data_list):\n",
    "\n",
    "        tokenizer = AutoTokenizer.from_pretrained(self.config.model_name)\n",
    "        encoded_data = tokenizer(data_list, padding = True, truncation= True )\n",
    "        \n",
    "        return encoded_data\n",
    "\n",
    "\n",
    "    def get_processed_data(self):\n",
    "        file_name = os.listdir(self.config.raw_data_dir)[0]\n",
    "        file_path = join_path(self.config.raw_data_dir,file_name)\n",
    "\n",
    "        df = pd.read_csv(file_path, nrows= 100)\n",
    "        \n",
    "\n",
    "        # encoding text\n",
    "\n",
    "        text_list = df[self.config.text_col].to_list()\n",
    "        encoded_text = self.get_encoded_text(text_list)\n",
    "\n",
    "        # encoding the labels\n",
    "        encoded_labels = self.get_encoded_labels(df[self.config.label_col])\n",
    "        encoded_labels = encoded_labels.to_list()\n",
    "\n",
    "        # adding labels\n",
    "        processed_data_dict = { \n",
    "            \"input_ids\": encoded_text[\"input_ids\"],\n",
    "            \"token_type_ids\": encoded_text[\"token_type_ids\"],\n",
    "            \"attention_mask\": encoded_text[\"attention_mask\"],\n",
    "            \"labels\": encoded_labels\n",
    "                }\n",
    "        \n",
    "        \n",
    "        \n",
    "        save_json(Path(join_path(self.config.processed_data_dir,\"processed_data.json\")), processed_data_dict)\n",
    "\n",
    "\n",
    "    def get_range_data(self,data, start_range, end_range):\n",
    "        for k in data.keys():\n",
    "            data[k] = data[k][start_range: end_range]\n",
    "\n",
    "        return data\n",
    "    \n",
    "    def get_split_data(self):\n",
    "\n",
    "        processed_data = load_json(Path(join_path(self.config.processed_data_dir, \"processed_data.json\")))\n",
    "\n",
    "\n",
    "        data_len = len(processed_data[\"labels\"])\n",
    "        train_start_index, train_end_index = 0, int(self.config.train_data_size*data_len)\n",
    "        val_start_index, val_end_index = train_end_index , train_end_index + int(self.config.val_data_size*data_len)\n",
    "        test_start_index, test_end_index = val_end_index , data_len\n",
    "\n",
    "        train_data = self.get_range_data(processed_data.copy(), train_start_index, train_end_index)\n",
    "        val_data = self.get_range_data(processed_data.copy(),val_start_index, val_end_index)\n",
    "        test_data = self.get_range_data(processed_data.copy(), test_start_index, test_end_index)\n",
    "\n",
    "        # save train_data\n",
    "        save_json(Path(join_path(self.config.split_data_dir, \"train_data.json\")), train_data)\n",
    "\n",
    "        #save val data\n",
    "        save_json(Path(join_path(self.config.split_data_dir, \"val_data.json\")), val_data)\n",
    "\n",
    "        #save test data\n",
    "        save_json(Path(join_path(self.config.split_data_dir, \"test_data.json\")), test_data)\n",
    "\n",
    "\n"
   ]
  },
  {
   "cell_type": "code",
   "execution_count": 21,
   "metadata": {},
   "outputs": [
    {
     "name": "stdout",
     "output_type": "stream",
     "text": [
      "[2024-05-25 15:57:13,794: INFO: common: yaml file: config/config.yaml loaded successfully]\n",
      "[2024-05-25 15:57:13,804: INFO: common: yaml file: params.yaml loaded successfully]\n",
      "[2024-05-25 15:57:13,807: INFO: common: already created directory: artifacts]\n",
      "[2024-05-25 15:57:13,809: INFO: common: already created directory: artifacts/processed_data]\n",
      "[2024-05-25 15:57:13,812: INFO: common: already created directory: artifacts/split_data]\n"
     ]
    },
    {
     "name": "stdout",
     "output_type": "stream",
     "text": [
      "[2024-05-25 15:57:13,852: INFO: common: json file loaded succesfully from: artifacts/processed_data/processed_data.json]\n",
      "[2024-05-25 15:57:14,003: INFO: common: json file saved at: artifacts/split_data/train_data.json]\n",
      "[2024-05-25 15:57:14,031: INFO: common: json file saved at: artifacts/split_data/val_data.json]\n",
      "[2024-05-25 15:57:14,082: INFO: common: json file saved at: artifacts/split_data/test_data.json]\n"
     ]
    }
   ],
   "source": [
    "config =ConfigurationManager()\n",
    "data_processing_config = config.get_data_processing_config()\n",
    "\n",
    "data_processing = DataProcessing(data_processing_config)\n",
    "\n",
    "data_processing.get_processed_data()\n",
    "data_processing.get_split_data()"
   ]
  },
  {
   "cell_type": "code",
   "execution_count": null,
   "metadata": {},
   "outputs": [],
   "source": []
  }
 ],
 "metadata": {
  "kernelspec": {
   "display_name": "tc_env",
   "language": "python",
   "name": "python3"
  },
  "language_info": {
   "codemirror_mode": {
    "name": "ipython",
    "version": 3
   },
   "file_extension": ".py",
   "mimetype": "text/x-python",
   "name": "python",
   "nbconvert_exporter": "python",
   "pygments_lexer": "ipython3",
   "version": "3.8.10"
  }
 },
 "nbformat": 4,
 "nbformat_minor": 2
}
