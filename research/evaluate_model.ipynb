{
 "cells": [
  {
   "cell_type": "code",
   "execution_count": 1,
   "metadata": {},
   "outputs": [
    {
     "name": "stdout",
     "output_type": "stream",
     "text": [
      "/home/gourav/ML/Text_Classification_Model_Builder/research\n"
     ]
    }
   ],
   "source": [
    "!pwd"
   ]
  },
  {
   "cell_type": "code",
   "execution_count": 2,
   "metadata": {},
   "outputs": [],
   "source": [
    "import os\n",
    "os.chdir(\"../\")"
   ]
  },
  {
   "cell_type": "code",
   "execution_count": 3,
   "metadata": {},
   "outputs": [
    {
     "name": "stdout",
     "output_type": "stream",
     "text": [
      "/home/gourav/ML/Text_Classification_Model_Builder\n"
     ]
    }
   ],
   "source": [
    "!pwd"
   ]
  },
  {
   "cell_type": "code",
   "execution_count": 4,
   "metadata": {},
   "outputs": [],
   "source": [
    "from dataclasses import dataclass\n",
    "from pathlib import Path\n",
    "\n",
    "@dataclass(frozen= True)\n",
    "class EvaluateModelConfig:\n",
    "    test_data_path: Path \n",
    "    pretrained_model_path : Path"
   ]
  },
  {
   "cell_type": "code",
   "execution_count": 5,
   "metadata": {},
   "outputs": [],
   "source": [
    "from src.constants import *\n",
    "from src.utils.common import read_yaml, create_directories"
   ]
  },
  {
   "cell_type": "code",
   "execution_count": 6,
   "metadata": {},
   "outputs": [],
   "source": [
    "class ConfigurationManager:\n",
    "\n",
    "    def __init__(\n",
    "        self,\n",
    "        config_filepath = CONFIG_FILE_PATH,\n",
    "        params_filepath = PARAMS_FILE_PATH):\n",
    "\n",
    "        self.config = read_yaml(config_filepath)\n",
    "        self.params = read_yaml(params_filepath)\n",
    "\n",
    "        create_directories([self.config.artifacts_root])\n",
    "\n",
    "    def get_evaluate_model_config(self) -> EvaluateModelConfig:\n",
    "\n",
    "        config = self.config.evaluate_model\n",
    "        params = self.params.model_params\n",
    "        model_path = Path(os.path.join(config.saved_model_dir, params.model_name ,\"model\"))\n",
    "        \n",
    "        evaluate_model_config = EvaluateModelConfig(\n",
    "            test_data_path =Path(config.test_data_path),\n",
    "            pretrained_model_path = model_path\n",
    "        )\n",
    "\n",
    "        return evaluate_model_config"
   ]
  },
  {
   "cell_type": "code",
   "execution_count": 7,
   "metadata": {},
   "outputs": [
    {
     "name": "stdout",
     "output_type": "stream",
     "text": [
      "[2024-06-03 17:08:58,070: INFO: common: yaml file: config/config.yaml loaded successfully]\n",
      "[2024-06-03 17:08:58,090: INFO: common: yaml file: params.yaml loaded successfully]\n",
      "[2024-06-03 17:08:58,094: INFO: common: already created directory: artifacts]\n",
      "EvaluateModelConfig(test_data_path=PosixPath('artifacts/split_data'), pretrained_tokenizer_path=PosixPath('artifacts/models/bert-base-uncased/tokenizer'), pretrained_model_path=PosixPath('artifacts/models/bert-base-uncased/model'))\n"
     ]
    }
   ],
   "source": [
    "obj = ConfigurationManager()\n",
    "evaluation_config = obj.get_evaluate_model_config()\n",
    "print(evaluation_config)"
   ]
  },
  {
   "cell_type": "code",
   "execution_count": null,
   "metadata": {},
   "outputs": [],
   "source": [
    "import torch\n",
    "from src.utils.common import load_json, join_path\n",
    "import numpy as np\n",
    "from sklearn.metrics import accuracy_score, precision_recall_fscore_support\n",
    "from datasets import Dataset\n",
    "from transformers import AutoModelForSequenceClassification, TrainingArguments, Trainer"
   ]
  },
  {
   "cell_type": "code",
   "execution_count": 8,
   "metadata": {},
   "outputs": [],
   "source": [
    "class EvaluateModel:\n",
    "    def __init__(self, config = EvaluateModelConfig):\n",
    "        self.config = config\n",
    "\n",
    "    def get_predictions(self,input_ids):\n",
    "        predicted_labels = []\n",
    "        pretrained_model = AutoModelForSequenceClassification.from_pretrained(self.config.pretrained_model_path)\n",
    "        for i in range(len(input_ids)):\n",
    "            predicted_input = torch.tensor([input_ids[i]])\n",
    "            preds = pretrained_model(predicted_input)\n",
    "            predicted_labels.append(preds.logits.argmax())\n",
    "            \n",
    "        return predicted_labels\n",
    "    \n",
    "    def get_evaluation_report(self, actual_labels, predicted_labels):\n",
    "        precision, recall, f1, _ = precision_recall_fscore_support(actual_labels, predicted_labels, average='macro')\n",
    "\n",
    "        acc = accuracy_score(actual_labels, predicted_labels)\n",
    "        report = {\n",
    "            'Accuracy': acc,\n",
    "            'F1': f1,\n",
    "            'Precision': precision,\n",
    "            'Recall': recall\n",
    "        }\n",
    "\n",
    "        return report\n",
    "\n",
    "    def get_model_evaluation(self):\n",
    "\n",
    "        test_data = load_json(self.config.test_data_path)\n",
    "        input_ids = test_data[\"input_ids\"]\n",
    "\n",
    "        predicted_labels = self.get_predictions(input_ids)\n",
    "        actual_labels = test_data[\"labels\"]\n",
    "\n",
    "        model_evaluation_result = self.get_evaluation_report(actual_labels, predicted_labels)\n",
    "\n",
    "        return model_evaluation_result\n",
    "        "
   ]
  },
  {
   "cell_type": "code",
   "execution_count": null,
   "metadata": {},
   "outputs": [],
   "source": [
    "obj = ConfigurationManager()\n",
    "evaluation_config = obj.get_evaluate_model_config()\n",
    "evaluate_model = EvaluateModel(evaluation_config)\n",
    "evalutaton_report = evaluate_model.get_model_evaluation()"
   ]
  }
 ],
 "metadata": {
  "kernelspec": {
   "display_name": "tc_env",
   "language": "python",
   "name": "python3"
  },
  "language_info": {
   "codemirror_mode": {
    "name": "ipython",
    "version": 3
   },
   "file_extension": ".py",
   "mimetype": "text/x-python",
   "name": "python",
   "nbconvert_exporter": "python",
   "pygments_lexer": "ipython3",
   "version": "3.8.10"
  }
 },
 "nbformat": 4,
 "nbformat_minor": 2
}
